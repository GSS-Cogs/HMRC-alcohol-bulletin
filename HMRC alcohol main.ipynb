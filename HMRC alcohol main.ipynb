{
 "cells": [
  {
   "cell_type": "markdown",
   "metadata": {},
   "source": [
    "HM Revenue and Customs Alcohol Bulletin - July 2018"
   ]
  },
  {
   "cell_type": "code",
   "execution_count": 1,
   "metadata": {
    "collapsed": true
   },
   "outputs": [],
   "source": [
    "from databaker.framework import *\n",
    "import pandas as pd"
   ]
  },
  {
   "cell_type": "code",
   "execution_count": 2,
   "metadata": {
    "collapsed": true
   },
   "outputs": [],
   "source": [
    "next_table = pd.DataFrame()"
   ]
  },
  {
   "cell_type": "code",
   "execution_count": 3,
   "metadata": {
    "collapsed": true
   },
   "outputs": [],
   "source": [
    "%%capture\n",
    "%run \"Alcohol HMRC(2).ipynb\"\n",
    "next_table = pd.concat([next_table, new_table])\n",
    "\n",
    "%run \"Alcohol HMRC(3).ipynb\"\n",
    "next_table = pd.concat([next_table, new_table])\n",
    "\n",
    "%run \"Alcohol HMRC(4).ipynb\"\n",
    "next_table = pd.concat([next_table, new_table])\n",
    "\n",
    "%run \"Alcohol HMRC(5).ipynb\"\n",
    "next_table = pd.concat([next_table, new_table])\n",
    "\n",
    "%run \"Alcohol HMRC(7).ipynb\"\n",
    "next_table = pd.concat([next_table, new_table])\n",
    "\n",
    "%run \"Alcohol HMRC(8).ipynb\"\n",
    "next_table = pd.concat([next_table, new_table])\n",
    "\n",
    "%run \"Alcohol HMRC(9).ipynb\"\n",
    "next_table = pd.concat([next_table, new_table])\n",
    "\n",
    "%run \"Alcohol HMRC(10).ipynb\"\n",
    "next_table = pd.concat([next_table, new_table])\n",
    "\n",
    "%run \"Alcohol HMRC(12).ipynb\"\n",
    "next_table = pd.concat([next_table, Final_table])"
   ]
  },
  {
   "cell_type": "code",
   "execution_count": 4,
   "metadata": {
    "collapsed": true
   },
   "outputs": [],
   "source": [
    "next_table.dropna(how='any',axis=0, inplace =True)"
   ]
  },
  {
   "cell_type": "code",
   "execution_count": 5,
   "metadata": {},
   "outputs": [
    {
     "data": {
      "text/plain": [
       "Year               10634\n",
       "Category           10634\n",
       "Alcohol Content    10634\n",
       "Measure Type       10634\n",
       "Value              10634\n",
       "Unit               10634\n",
       "Revision           10634\n",
       "dtype: int64"
      ]
     },
     "execution_count": 5,
     "metadata": {},
     "output_type": "execute_result"
    }
   ],
   "source": [
    "next_table.count()"
   ]
  },
  {
   "cell_type": "code",
   "execution_count": 6,
   "metadata": {},
   "outputs": [
    {
     "data": {
      "text/html": [
       "<div>\n",
       "<style scoped>\n",
       "    .dataframe tbody tr th:only-of-type {\n",
       "        vertical-align: middle;\n",
       "    }\n",
       "\n",
       "    .dataframe tbody tr th {\n",
       "        vertical-align: top;\n",
       "    }\n",
       "\n",
       "    .dataframe thead th {\n",
       "        text-align: right;\n",
       "    }\n",
       "</style>\n",
       "<table border=\"1\" class=\"dataframe\">\n",
       "  <thead>\n",
       "    <tr style=\"text-align: right;\">\n",
       "      <th></th>\n",
       "      <th>Year</th>\n",
       "      <th>Category</th>\n",
       "      <th>Alcohol Content</th>\n",
       "      <th>Measure Type</th>\n",
       "      <th>Value</th>\n",
       "      <th>Unit</th>\n",
       "      <th>Revision</th>\n",
       "    </tr>\n",
       "  </thead>\n",
       "  <tbody>\n",
       "    <tr>\n",
       "      <th>0</th>\n",
       "      <td>2013/14</td>\n",
       "      <td>Still</td>\n",
       "      <td>Not exceeding 15%</td>\n",
       "      <td>Net Volume</td>\n",
       "      <td>11434771</td>\n",
       "      <td>hectolitres</td>\n",
       "      <td></td>\n",
       "    </tr>\n",
       "    <tr>\n",
       "      <th>1</th>\n",
       "      <td>2014/15</td>\n",
       "      <td>Still</td>\n",
       "      <td>Not exceeding 15%</td>\n",
       "      <td>Net Volume</td>\n",
       "      <td>10922458</td>\n",
       "      <td>hectolitres</td>\n",
       "      <td></td>\n",
       "    </tr>\n",
       "    <tr>\n",
       "      <th>2</th>\n",
       "      <td>2015/16</td>\n",
       "      <td>Still</td>\n",
       "      <td>Not exceeding 15%</td>\n",
       "      <td>Net Volume</td>\n",
       "      <td>11236512</td>\n",
       "      <td>hectolitres</td>\n",
       "      <td></td>\n",
       "    </tr>\n",
       "    <tr>\n",
       "      <th>3</th>\n",
       "      <td>2016/17</td>\n",
       "      <td>Still</td>\n",
       "      <td>Not exceeding 15%</td>\n",
       "      <td>Net Volume</td>\n",
       "      <td>11226356</td>\n",
       "      <td>hectolitres</td>\n",
       "      <td></td>\n",
       "    </tr>\n",
       "    <tr>\n",
       "      <th>4</th>\n",
       "      <td>2017/18</td>\n",
       "      <td>Still</td>\n",
       "      <td>Not exceeding 15%</td>\n",
       "      <td>Net Volume</td>\n",
       "      <td>11192015</td>\n",
       "      <td>hectolitres</td>\n",
       "      <td></td>\n",
       "    </tr>\n",
       "  </tbody>\n",
       "</table>\n",
       "</div>"
      ],
      "text/plain": [
       "      Year Category    Alcohol Content Measure Type     Value         Unit  \\\n",
       "0  2013/14    Still  Not exceeding 15%   Net Volume  11434771  hectolitres   \n",
       "1  2014/15    Still  Not exceeding 15%   Net Volume  10922458  hectolitres   \n",
       "2  2015/16    Still  Not exceeding 15%   Net Volume  11236512  hectolitres   \n",
       "3  2016/17    Still  Not exceeding 15%   Net Volume  11226356  hectolitres   \n",
       "4  2017/18    Still  Not exceeding 15%   Net Volume  11192015  hectolitres   \n",
       "\n",
       "  Revision  \n",
       "0           \n",
       "1           \n",
       "2           \n",
       "3           \n",
       "4           "
      ]
     },
     "execution_count": 6,
     "metadata": {},
     "output_type": "execute_result"
    }
   ],
   "source": [
    "next_table.head()"
   ]
  },
  {
   "cell_type": "code",
   "execution_count": 7,
   "metadata": {},
   "outputs": [
    {
     "data": {
      "text/html": [
       "<div>\n",
       "<style scoped>\n",
       "    .dataframe tbody tr th:only-of-type {\n",
       "        vertical-align: middle;\n",
       "    }\n",
       "\n",
       "    .dataframe tbody tr th {\n",
       "        vertical-align: top;\n",
       "    }\n",
       "\n",
       "    .dataframe thead th {\n",
       "        text-align: right;\n",
       "    }\n",
       "</style>\n",
       "<table border=\"1\" class=\"dataframe\">\n",
       "  <thead>\n",
       "    <tr style=\"text-align: right;\">\n",
       "      <th></th>\n",
       "      <th>Year</th>\n",
       "      <th>Category</th>\n",
       "      <th>Alcohol Content</th>\n",
       "      <th>Measure Type</th>\n",
       "      <th>Value</th>\n",
       "      <th>Unit</th>\n",
       "      <th>Revision</th>\n",
       "    </tr>\n",
       "  </thead>\n",
       "  <tbody>\n",
       "    <tr>\n",
       "      <th>168</th>\n",
       "      <td>25.03.13</td>\n",
       "      <td>Low Strength Beers</td>\n",
       "      <td>1.2% to 2.8%</td>\n",
       "      <td>GBP Total</td>\n",
       "      <td>9.17</td>\n",
       "      <td>£ per 1% ABV per hectolitre</td>\n",
       "      <td></td>\n",
       "    </tr>\n",
       "    <tr>\n",
       "      <th>169</th>\n",
       "      <td>24.03.14</td>\n",
       "      <td>Low Strength Beers</td>\n",
       "      <td>1.2% to 2.8%</td>\n",
       "      <td>GBP Total</td>\n",
       "      <td>8.62</td>\n",
       "      <td>£ per 1% ABV per hectolitre</td>\n",
       "      <td></td>\n",
       "    </tr>\n",
       "    <tr>\n",
       "      <th>170</th>\n",
       "      <td>23.03.15</td>\n",
       "      <td>Low Strength Beers</td>\n",
       "      <td>1.2% to 2.8%</td>\n",
       "      <td>GBP Total</td>\n",
       "      <td>8.1</td>\n",
       "      <td>£ per 1% ABV per hectolitre</td>\n",
       "      <td></td>\n",
       "    </tr>\n",
       "    <tr>\n",
       "      <th>171</th>\n",
       "      <td>21.03.16</td>\n",
       "      <td>Low Strength Beers</td>\n",
       "      <td>1.2% to 2.8%</td>\n",
       "      <td>GBP Total</td>\n",
       "      <td>8.1</td>\n",
       "      <td>£ per 1% ABV per hectolitre</td>\n",
       "      <td></td>\n",
       "    </tr>\n",
       "    <tr>\n",
       "      <th>172</th>\n",
       "      <td>13.03.17</td>\n",
       "      <td>Low Strength Beers</td>\n",
       "      <td>1.2% to 2.8%</td>\n",
       "      <td>GBP Total</td>\n",
       "      <td>8.42</td>\n",
       "      <td>£ per 1% ABV per hectolitre</td>\n",
       "      <td></td>\n",
       "    </tr>\n",
       "  </tbody>\n",
       "</table>\n",
       "</div>"
      ],
      "text/plain": [
       "         Year            Category Alcohol Content Measure Type Value  \\\n",
       "168  25.03.13  Low Strength Beers    1.2% to 2.8%    GBP Total  9.17   \n",
       "169  24.03.14  Low Strength Beers    1.2% to 2.8%    GBP Total  8.62   \n",
       "170  23.03.15  Low Strength Beers    1.2% to 2.8%    GBP Total   8.1   \n",
       "171  21.03.16  Low Strength Beers    1.2% to 2.8%    GBP Total   8.1   \n",
       "172  13.03.17  Low Strength Beers    1.2% to 2.8%    GBP Total  8.42   \n",
       "\n",
       "                            Unit Revision  \n",
       "168  £ per 1% ABV per hectolitre           \n",
       "169  £ per 1% ABV per hectolitre           \n",
       "170  £ per 1% ABV per hectolitre           \n",
       "171  £ per 1% ABV per hectolitre           \n",
       "172  £ per 1% ABV per hectolitre           "
      ]
     },
     "execution_count": 7,
     "metadata": {},
     "output_type": "execute_result"
    }
   ],
   "source": [
    "next_table.tail()"
   ]
  },
  {
   "cell_type": "code",
   "execution_count": 8,
   "metadata": {
    "collapsed": true
   },
   "outputs": [],
   "source": [
    "out = Path('out')\n",
    "out.mkdir(exist_ok=True)\n",
    "next_table.to_csv(out / 'hmrcalcohol.csv', index = False)"
   ]
  },
  {
   "cell_type": "code",
   "execution_count": null,
   "metadata": {
    "collapsed": true
   },
   "outputs": [],
   "source": []
  }
 ],
 "metadata": {
  "kernelspec": {
   "display_name": "Python 3",
   "language": "python",
   "name": "python3"
  },
  "language_info": {
   "codemirror_mode": {
    "name": "ipython",
    "version": 3
   },
   "file_extension": ".py",
   "mimetype": "text/x-python",
   "name": "python",
   "nbconvert_exporter": "python",
   "pygments_lexer": "ipython3",
   "version": "3.6.3"
  }
 },
 "nbformat": 4,
 "nbformat_minor": 2
}
